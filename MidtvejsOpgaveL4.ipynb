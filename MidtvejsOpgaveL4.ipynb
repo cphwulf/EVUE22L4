{
 "cells": [
  {
   "cell_type": "markdown",
   "id": "7e46afad",
   "metadata": {},
   "source": [
    "## Bike Rental I"
   ]
  },
  {
   "cell_type": "code",
   "execution_count": 1,
   "id": "cafeb5c6",
   "metadata": {},
   "outputs": [],
   "source": [
    "# liste af cykler som kan udlejes \n",
    "# cyklerne skal være dictionaries\n",
    "\n",
    "# beskeder der sendes til kunde og medarbejder\n",
    "\n",
    "# booleans som regulerer flowet\n",
    "# while-loop til bookning af cykel\n",
    "# loop skal køre til brugeren er tilfreds og får oplyst prisen\n",
    "# listen af cykler skal opdateres med ændringer på den valgte cykel\n",
    "# det skal være muligt at køre flere kunder\n",
    "# systemet skal lukke efter et antal bookinger der bestemmes i dialog med medarbejderen"
   ]
  },
  {
   "cell_type": "code",
   "execution_count": 2,
   "id": "cb8d127b",
   "metadata": {},
   "outputs": [],
   "source": [
    "simplebikes = [\"sco\",\"trek\",\"canondale\",\"mustang\",\"cube\"]\n",
    "bikes=[\n",
    "{\"stelnr\": \"123456\", \"bikeinfo\":{\"make\":\"sco\",\"model\":\"classic\",\"gear\":7,\"type\":\"CITY\",\"price\":200,\"booked\":0}},\n",
    "{\"stelnr\": \"321234\", \"bikeinfo\":{\"make\":\"trek\",\"model\":\"Supercaliber\",\"gear\":21,\"type\":\"MTB\",\"price\":200,\"booked\":0}}\n",
    "]"
   ]
  },
  {
   "cell_type": "code",
   "execution_count": null,
   "id": "e6c80183",
   "metadata": {},
   "outputs": [],
   "source": []
  },
  {
   "cell_type": "markdown",
   "id": "93d5402d",
   "metadata": {},
   "source": [
    "## Bike Rental II"
   ]
  },
  {
   "cell_type": "code",
   "execution_count": 15,
   "id": "4e515f39",
   "metadata": {},
   "outputs": [],
   "source": [
    "# udvid bikes-strukturen med flg liste som opdateres hver gang en cykel er blevet booket\n",
    "#\"customer\": [\"peter\",\"anton\"]\n",
    "# udvid dette til en dictionary:\n",
    "# \"customer\":[{bookingid: 12312, bookinginfo: {\"name\":\"Peter\",\"bookingdate\":2022-09-09,\"bookedby\":medarbejdernavn}}]"
   ]
  },
  {
   "cell_type": "code",
   "execution_count": 12,
   "id": "3c7763ea",
   "metadata": {},
   "outputs": [],
   "source": [
    "from datetime import date"
   ]
  },
  {
   "cell_type": "code",
   "execution_count": null,
   "id": "6d71843b",
   "metadata": {},
   "outputs": [],
   "source": [
    "print(date.today())"
   ]
  },
  {
   "cell_type": "code",
   "execution_count": 17,
   "id": "160cd2e8",
   "metadata": {},
   "outputs": [
    {
     "name": "stdout",
     "output_type": "stream",
     "text": [
      "/Users/thor/Git/EVUE22L3\r\n"
     ]
    }
   ],
   "source": [
    "!pwd"
   ]
  },
  {
   "cell_type": "code",
   "execution_count": null,
   "id": "5e85d64a",
   "metadata": {},
   "outputs": [],
   "source": []
  }
 ],
 "metadata": {
  "kernelspec": {
   "display_name": "Python 3 (ipykernel)",
   "language": "python",
   "name": "python3"
  },
  "language_info": {
   "codemirror_mode": {
    "name": "ipython",
    "version": 3
   },
   "file_extension": ".py",
   "mimetype": "text/x-python",
   "name": "python",
   "nbconvert_exporter": "python",
   "pygments_lexer": "ipython3",
   "version": "3.7.6"
  }
 },
 "nbformat": 4,
 "nbformat_minor": 5
}
