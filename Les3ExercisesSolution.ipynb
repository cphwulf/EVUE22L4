{
 "cells": [
  {
   "cell_type": "markdown",
   "id": "113a6017",
   "metadata": {},
   "source": [
    "6-1,6-3,6-4,6-8,7-1,7-2"
   ]
  },
  {
   "cell_type": "markdown",
   "id": "defbd21c",
   "metadata": {},
   "source": [
    "6-1. Person: Use a dictionary to store information about a person you know.\n",
    "Store their first name, last name, age, and the city in which they live."
   ]
  },
  {
   "cell_type": "code",
   "execution_count": 4,
   "id": "63065427",
   "metadata": {},
   "outputs": [],
   "source": [
    "friend = {\"fn\":\"Kurt\",\"ln\":\"Verner\",\"age\":34,\"city\":\"Slagelse\"}"
   ]
  },
  {
   "cell_type": "code",
   "execution_count": 7,
   "id": "1e7d29dd",
   "metadata": {},
   "outputs": [],
   "source": [
    "friend[\"work\"]=\"FOF\""
   ]
  },
  {
   "cell_type": "code",
   "execution_count": 8,
   "id": "e3fc0926",
   "metadata": {},
   "outputs": [
    {
     "data": {
      "text/plain": [
       "{'fn': 'Kurt', 'ln': 'Verner', 'age': 34, 'city': 'Slagelse', 'work': 'FOF'}"
      ]
     },
     "execution_count": 8,
     "metadata": {},
     "output_type": "execute_result"
    }
   ],
   "source": [
    "friend"
   ]
  },
  {
   "cell_type": "code",
   "execution_count": null,
   "id": "4309d657",
   "metadata": {},
   "outputs": [],
   "source": []
  },
  {
   "cell_type": "markdown",
   "id": "ba1c3361",
   "metadata": {},
   "source": [
    "6-2. Favorite Numbers: Use a dictionary to store people’s favorite numbers.\n",
    "Think of five names, and use them as keys in your dictionary. Think of a favorite\n",
    "number for each person, and store each as a value in your dictionary."
   ]
  },
  {
   "cell_type": "code",
   "execution_count": 9,
   "id": "53586b34",
   "metadata": {},
   "outputs": [
    {
     "data": {
      "text/plain": [
       "{'kurt': 5, 'lone': 15, 'mette': 21, 'jan': 2, 'Vibe': 342}"
      ]
     },
     "execution_count": 9,
     "metadata": {},
     "output_type": "execute_result"
    }
   ],
   "source": [
    "{\"kurt\":5,\"lone\":15,\"mette\":21,\"jan\":2,\"Vibe\":342}"
   ]
  },
  {
   "cell_type": "markdown",
   "id": "0c20dcf1",
   "metadata": {},
   "source": [
    "6-3. Glossary: A Python dictionary can be used to model an actual dictionary.\n",
    "However, to avoid confusion, let’s call it a glossary."
   ]
  },
  {
   "cell_type": "code",
   "execution_count": 11,
   "id": "265969b1",
   "metadata": {},
   "outputs": [],
   "source": [
    "dd={\"list\":\"en ordnet sekvens af pladser\",\"integer\":\"et hel-tal\", \"expression\":\"den mindste enhed der evaluerer til en værdi\"}"
   ]
  },
  {
   "cell_type": "markdown",
   "id": "6f1013bd",
   "metadata": {},
   "source": [
    "6-4. Glossary 2: Now that you know how to loop through a dictionary, clean\n",
    "up the code from Exercise 6-3 (page 99) by replacing your series of print()\n",
    "calls with a loop"
   ]
  },
  {
   "cell_type": "code",
   "execution_count": null,
   "id": "c2f553b0",
   "metadata": {},
   "outputs": [],
   "source": [
    "for key in dd:\n",
    "    print(f\"Begrebet {key} betyder {dd.get(key)}\")"
   ]
  },
  {
   "cell_type": "markdown",
   "id": "320048ae",
   "metadata": {},
   "source": [
    "6-8. Pets: Make several dictionaries, where each dictionary represents a different\n",
    "pet. In each dictionary, include the kind of animal and the owner’s name.\n",
    "Store these dictionaries in a list called pets. Next, loop through your list and as\n",
    "you do, print everything you know about each pet."
   ]
  },
  {
   "cell_type": "code",
   "execution_count": 14,
   "id": "c9e9bc6f",
   "metadata": {},
   "outputs": [],
   "source": [
    "pets = [\n",
    "{\"kind\":\"dog\",\"owner\":\"kurt\"},\n",
    "{\"kind\":\"cat\",\"owner\":\"lone\"},\n",
    "{\"kind\":\"mouse\",\"owner\":\"victor\"},\n",
    "{\"kind\":\"rabbit\",\"owner\":\"Lise\"}\n",
    "]"
   ]
  },
  {
   "cell_type": "code",
   "execution_count": null,
   "id": "80c48877",
   "metadata": {},
   "outputs": [],
   "source": [
    "for pet in pets:\n",
    "    print(f\"{pet[k]})"
   ]
  },
  {
   "cell_type": "markdown",
   "id": "4f099be7",
   "metadata": {},
   "source": [
    "7-1. Rental Car: Write a program that asks the user what kind of rental car they\n",
    "would like. Print a message about that car, such as “Let me see if I can find you\n",
    "a Subaru.”"
   ]
  },
  {
   "cell_type": "code",
   "execution_count": null,
   "id": "ec5321cd",
   "metadata": {},
   "outputs": [],
   "source": [
    "msg=\"What kind of car?\"\n",
    "running=True\n",
    "while running:\n",
    "    car=input(msg)\n",
    "    print(\"let me find you a {car}\")\n",
    "    running=False"
   ]
  },
  {
   "cell_type": "code",
   "execution_count": null,
   "id": "e97874f7",
   "metadata": {},
   "outputs": [],
   "source": [
    "msg=\"What kind of car?\"\n",
    "availc=['bmw','vw','volvo']\n",
    "taken=[]\n",
    "mainrunning=True\n",
    "while mainrunning:\n",
    "    if len(availc) == 0:\n",
    "        print(\"No more cars .. bye\")\n",
    "        mainrunning = False\n",
    "        break\n",
    "    print(\"Welcome\")\n",
    "    custname=input(\"Name?\")\n",
    "    running=True\n",
    "    while running:\n",
    "        car=input(msg)\n",
    "        print(f\"let me find you a {car}\")\n",
    "        if car in availc:\n",
    "            print(\"Got it\")\n",
    "            availc.remove(car)\n",
    "            running=False\n",
    "        else:\n",
    "            print(\"Not found\")"
   ]
  },
  {
   "cell_type": "code",
   "execution_count": null,
   "id": "86670549",
   "metadata": {},
   "outputs": [],
   "source": []
  },
  {
   "cell_type": "markdown",
   "id": "faca1fb4",
   "metadata": {},
   "source": [
    "7-2. Restaurant Seating: Write a program that asks the user how many people\n",
    "are in their dinner group. If the answer is more than eight, print a message saying\n",
    "they’ll have to wait for a table. Otherwise, report that their table is ready."
   ]
  },
  {
   "cell_type": "code",
   "execution_count": null,
   "id": "5bd93591",
   "metadata": {},
   "outputs": [],
   "source": [
    "msgq=\"how many are you?\"\n",
    "msgpos=\"Table is ready\"\n",
    "msgneg=\"You have to wait\""
   ]
  },
  {
   "cell_type": "code",
   "execution_count": null,
   "id": "44b1d497",
   "metadata": {},
   "outputs": [],
   "source": [
    "keep_asking=True\n",
    "while keep_asking:\n",
    "    number_of_guests=input(msgq)\n",
    "    if int(number_of_guests) > 8:\n",
    "        print(msgneg)\n",
    "    else:\n",
    "        print(msgpos)\n",
    "    keep_asking=False"
   ]
  },
  {
   "cell_type": "code",
   "execution_count": null,
   "id": "204478eb",
   "metadata": {},
   "outputs": [],
   "source": []
  }
 ],
 "metadata": {
  "kernelspec": {
   "display_name": "Python 3 (ipykernel)",
   "language": "python",
   "name": "python3"
  },
  "language_info": {
   "codemirror_mode": {
    "name": "ipython",
    "version": 3
   },
   "file_extension": ".py",
   "mimetype": "text/x-python",
   "name": "python",
   "nbconvert_exporter": "python",
   "pygments_lexer": "ipython3",
   "version": "3.7.6"
  }
 },
 "nbformat": 4,
 "nbformat_minor": 5
}
